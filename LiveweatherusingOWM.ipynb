{
 "cells": [
  {
   "cell_type": "code",
   "execution_count": 33,
   "metadata": {},
   "outputs": [
    {
     "name": "stdout",
     "output_type": "stream",
     "text": [
      "Requirement already satisfied: pyowm in c:\\users\\seysh\\lib\\site-packages (3.1.1)\n",
      "Requirement already satisfied: requests[socks] in c:\\users\\seysh\\lib\\site-packages (from pyowm) (2.24.0)\n",
      "Requirement already satisfied: geojson<3,>=2.3.0 in c:\\users\\seysh\\lib\\site-packages (from pyowm) (2.5.0)\n",
      "Requirement already satisfied: PySocks<2,>=1.7.1 in c:\\users\\seysh\\lib\\site-packages (from pyowm) (1.7.1)\n",
      "Requirement already satisfied: certifi>=2017.4.17 in c:\\users\\seysh\\lib\\site-packages (from requests[socks]->pyowm) (2020.6.20)\n",
      "Requirement already satisfied: idna<3,>=2.5 in c:\\users\\seysh\\lib\\site-packages (from requests[socks]->pyowm) (2.10)\n",
      "Requirement already satisfied: urllib3!=1.25.0,!=1.25.1,<1.26,>=1.21.1 in c:\\users\\seysh\\lib\\site-packages (from requests[socks]->pyowm) (1.25.10)\n",
      "Requirement already satisfied: chardet<4,>=3.0.2 in c:\\users\\seysh\\lib\\site-packages (from requests[socks]->pyowm) (3.0.4)\n",
      "Note: you may need to restart the kernel to use updated packages.\n"
     ]
    },
    {
     "name": "stderr",
     "output_type": "stream",
     "text": [
      "You are using pip version 19.0.3, however version 20.2.3 is available.\n",
      "You should consider upgrading via the 'python -m pip install --upgrade pip' command.\n"
     ]
    }
   ],
   "source": [
    "pip install pyowm\n"
   ]
  },
  {
   "cell_type": "code",
   "execution_count": 64,
   "metadata": {},
   "outputs": [
    {
     "name": "stderr",
     "output_type": "stream",
     "text": [
      "Exception in Tkinter callback\n",
      "Traceback (most recent call last):\n",
      "  File \"c:\\users\\seysh\\lib\\tkinter\\__init__.py\", line 1705, in __call__\n",
      "    return self.func(*args)\n",
      "  File \"<ipython-input-64-5e09bf57866e>\", line 36, in clicked\n",
      "    liveweather(cty)\n",
      "  File \"<ipython-input-64-5e09bf57866e>\", line 22, in liveweather\n",
      "    loc=owm.weather_manager().weather_at_place(city)\n",
      "  File \"c:\\users\\seysh\\lib\\site-packages\\pyowm\\weatherapi25\\weather_manager.py\", line 53, in weather_at_place\n",
      "    _, json_data = self.http_client.get_json(OBSERVATION_URI, params=params)\n",
      "  File \"c:\\users\\seysh\\lib\\site-packages\\pyowm\\commons\\http_client.py\", line 143, in get_json\n",
      "    HttpClient.check_status_code(resp.status_code, resp.text)\n",
      "  File \"c:\\users\\seysh\\lib\\site-packages\\pyowm\\commons\\http_client.py\", line 288, in check_status_code\n",
      "    raise exceptions.NotFoundError('Unable to find the resource')\n",
      "pyowm.commons.exceptions.NotFoundError: Unable to find the resource\n"
     ]
    }
   ],
   "source": [
    "import pyowm\n",
    "import tkinter\n",
    "import tkinter.font as tkFont\n",
    "\n",
    "window=tkinter.Tk()\n",
    "window.title(\"Live Weather\")\n",
    "window.configure(bg=\"Grey\")\n",
    "fontStyle = tkFont.Font(family=\"Lucida Grande\", size=30)\n",
    "L=tkinter.Label(window,text=\"Live Weather Update\",font=fontStyle)\n",
    "L.grid(column=1,row=0)\n",
    "window.geometry('500x500')\n",
    "fontStyle = tkFont.Font(family=\"Lucida Grande\", size=15)\n",
    "L1=tkinter.Label(window,text=\"Weather Information\",font=fontStyle)\n",
    "L1.grid(column=1,row=12)\n",
    "txt=tkinter.Entry(window,width=20)\n",
    "txt.grid(column=1,row=6)\n",
    "\n",
    "owm=pyowm.OWM('d98996729c7f1872f5014a882b18ba63')\n",
    "\n",
    "def liveweather(city):\n",
    "    #city=input(\"Enter any city to check weather:\")\n",
    "    loc=owm.weather_manager().weather_at_place(city)\n",
    "    #print(loc.weather)\n",
    "    temp=loc.weather.temperature(unit='celsius')\n",
    "    stat=loc.weather.detailed_status\n",
    "    if 'rain' in stat or 'storm' in stat:\n",
    "        res=(\"A rainy day in {} \".format(city))\n",
    "        L1.configure(text=res)\n",
    "    else:\n",
    "        res=(\"A {} day in {}\".format(stat,city))\n",
    "        L1.configure(text=res)\n",
    "    \n",
    "\n",
    "def clicked():\n",
    "    cty=txt.get()\n",
    "    liveweather(cty)\n",
    "btn=tkinter.Button(window,text=\"Tell me the weather\",fg=\"red\",command=clicked,font=fontStyle)\n",
    "btn.grid(column=1,row=8)\n",
    "\n",
    "window.mainloop()\n"
   ]
  },
  {
   "cell_type": "code",
   "execution_count": 9,
   "metadata": {},
   "outputs": [],
   "source": []
  },
  {
   "cell_type": "code",
   "execution_count": 26,
   "metadata": {},
   "outputs": [
    {
     "name": "stdin",
     "output_type": "stream",
     "text": [
      "Enter any city to check weather: Bengaluru\n"
     ]
    },
    {
     "name": "stdout",
     "output_type": "stream",
     "text": [
      "<pyowm.weatherapi25.weather.Weather - reference_time=2020-10-07 03:48:42+00:00, status=mist, detailed_status=mist>\n"
     ]
    }
   ],
   "source": [
    "\n"
   ]
  },
  {
   "cell_type": "code",
   "execution_count": 27,
   "metadata": {},
   "outputs": [
    {
     "name": "stdout",
     "output_type": "stream",
     "text": [
      "{'temp': 26.51, 'temp_max': 27.22, 'temp_min': 25.0, 'feels_like': 29.1, 'temp_kf': None} mist\n"
     ]
    }
   ],
   "source": [
    "\n",
    "#print(temp,stat)"
   ]
  },
  {
   "cell_type": "code",
   "execution_count": 28,
   "metadata": {},
   "outputs": [
    {
     "name": "stdout",
     "output_type": "stream",
     "text": [
      "A misty day in Bengaluru\n"
     ]
    }
   ],
   "source": []
  },
  {
   "cell_type": "code",
   "execution_count": null,
   "metadata": {},
   "outputs": [],
   "source": [
    "\n",
    "    \n",
    "\n"
   ]
  }
 ],
 "metadata": {
  "kernelspec": {
   "display_name": "Python 3",
   "language": "python",
   "name": "python3"
  },
  "language_info": {
   "codemirror_mode": {
    "name": "ipython",
    "version": 3
   },
   "file_extension": ".py",
   "mimetype": "text/x-python",
   "name": "python",
   "nbconvert_exporter": "python",
   "pygments_lexer": "ipython3",
   "version": "3.8.3"
  }
 },
 "nbformat": 4,
 "nbformat_minor": 4
}
